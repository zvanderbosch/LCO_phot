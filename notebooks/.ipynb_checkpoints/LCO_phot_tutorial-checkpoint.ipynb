{
 "cells": [
  {
   "cell_type": "code",
   "execution_count": 1,
   "id": "5e75c559-d5ca-4056-a9d7-d9a6282f4ae7",
   "metadata": {},
   "outputs": [],
   "source": [
    "import sys\n",
    "\n",
    "# SDSS-V Tools\n",
    "sys.path.insert(1, '../lco_phot')\n",
    "from lco_redux import lco_redux"
   ]
  },
  {
   "cell_type": "code",
   "execution_count": null,
   "id": "91851c9e-4f4d-4e4f-a2f0-8805bc1a7572",
   "metadata": {},
   "outputs": [],
   "source": []
  }
 ],
 "metadata": {
  "kernelspec": {
   "display_name": "Python 3 (ipykernel)",
   "language": "python",
   "name": "python3"
  },
  "language_info": {
   "codemirror_mode": {
    "name": "ipython",
    "version": 3
   },
   "file_extension": ".py",
   "mimetype": "text/x-python",
   "name": "python",
   "nbconvert_exporter": "python",
   "pygments_lexer": "ipython3",
   "version": "3.11.5"
  }
 },
 "nbformat": 4,
 "nbformat_minor": 5
}
