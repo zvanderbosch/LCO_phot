{
 "cells": [
  {
   "cell_type": "markdown",
   "id": "a3b16c67-16c6-435d-9a3c-cff028946fce",
   "metadata": {},
   "source": [
    "# Performing Aperture Photometry on a Single Source and Calibrating to Pan-STARRS1 Magnitudes"
   ]
  },
  {
   "cell_type": "code",
   "execution_count": 1,
   "id": "c9ca036d-7c83-46bf-bcdc-4c6a382ee2c8",
   "metadata": {},
   "outputs": [],
   "source": [
    "import sys\n",
    "import astropy.units as u\n",
    "import astropy.coordinates as coord\n",
    "\n",
    "from astropy.io import fits\n",
    "from IPython.display import display, Markdown\n",
    "\n",
    "# SDSS-V Tools\n",
    "sys.path.insert(1, '../lco_phot')\n",
    "from lco_redux import lco_redux"
   ]
  },
  {
   "cell_type": "markdown",
   "id": "e3a50145-6bf7-4ee2-8b6e-47c66694d692",
   "metadata": {},
   "source": [
    "# Define Image to Process and Target/Comp Coordinates"
   ]
  },
  {
   "cell_type": "code",
   "execution_count": 2,
   "id": "975fafe7-0559-4e36-bd5c-a7f0b78c19a8",
   "metadata": {},
   "outputs": [],
   "source": [
    "image_dir = \"../data\"\n",
    "image_name = f\"{image_dir}/elp1m008-fa05-20210704-0113-e91.fits.fz\"\n",
    "\n",
    "# Target Coordinates\n",
    "target_coord = coord.SkyCoord(\n",
    "    ra=24.77665*u.deg,\n",
    "    dec=52.76009*u.deg,\n",
    "    frame='icrs'\n",
    ")\n",
    "\n",
    "# Comparison Star Coordinates (only used for initial FWHM estimate)\n",
    "comp_coord = coord.SkyCoord(\n",
    "    ra=24.7728034*u.deg,\n",
    "    dec=52.7617258*u.deg,\n",
    "    frame='icrs'\n",
    ")"
   ]
  },
  {
   "cell_type": "markdown",
   "id": "84c3e6a4-f58a-4a84-83ba-d716cdc327bd",
   "metadata": {},
   "source": [
    "# Run LCO Redux"
   ]
  },
  {
   "cell_type": "code",
   "execution_count": 3,
   "id": "1c4bf43b-e0da-4205-8e1e-5af7451fe6dc",
   "metadata": {},
   "outputs": [
    {
     "name": "stdout",
     "output_type": "stream",
     "text": [
      "Performing Target Pan-STARRS Query...Complete\n",
      "\n"
     ]
    },
    {
     "name": "stderr",
     "output_type": "stream",
     "text": [
      "Calculating Centroids...100%|████████████████████████████████████████| 1/1 [00:00<00:00, 452.75it/s]      \n"
     ]
    },
    {
     "name": "stdout",
     "output_type": "stream",
     "text": [
      "\n",
      "Identifying Sources in LCO Image...\n",
      "1963 Sources Identified\n",
      "\n",
      "Loading Pan-STARRS Query...\n",
      "\n"
     ]
    },
    {
     "name": "stderr",
     "output_type": "stream",
     "text": [
      "Matching Objects to PS1...100%|████████████████████████████████████████| 1963/1963 [00:02<00:00, 962.79it/\n"
     ]
    },
    {
     "name": "stdout",
     "output_type": "stream",
     "text": [
      "\n",
      "1757 out of 1963 Objects Matched\n",
      "\n"
     ]
    },
    {
     "name": "stderr",
     "output_type": "stream",
     "text": [
      "Calculating Centroids...100%|████████████████████████████████████████| 1757/1757 [00:04<00:00, 356.18it/s]\n"
     ]
    },
    {
     "name": "stdout",
     "output_type": "stream",
     "text": [
      "\n",
      "\n",
      "Determining Aperture Size from FWHM...\n",
      "Aperture Radius (Pixels) = 4.19\n",
      "Aperture Radius (arcsec) = 1.63\n",
      "\n",
      "Performing Aperture Photometry...\n",
      " Median Background: 291.880 c/pix\n",
      "Average Background: 301.436 c/pix\n",
      "\n",
      "Finished! \n",
      "\n"
     ]
    }
   ],
   "source": [
    "# Constraints used for the Pan-STARRS1 queries\n",
    "constraints = {\n",
    "    'ng.gt':3,\n",
    "    'nr.gt':3,\n",
    "    'ni.gt':3,\n",
    "    'nDetections.gt':11,\n",
    "    'gMeanPSFMag.gt':14.0,\n",
    "    'rMeanPSFMag.gt':14.0,\n",
    "    'iMeanPSFMag.gt':14.0\n",
    "}\n",
    "\n",
    "phot_dat = lco_redux(\n",
    "    image_name,\n",
    "    target_coord,\n",
    "    comp_coord,\n",
    "    # \"Target query\" refers to Pan-STARRS1 query used\n",
    "    # to get PS1 magnitudes for the provided source\n",
    "    target_query_constraints=constraints,\n",
    "    target_query_save=False,\n",
    "    target_query_dir=\"../data/\", \n",
    "    target_query_name=\"ps1_target.csv\",\n",
    "    target_query_format=\"csv\",\n",
    "    # \"Full query\" refers to a PS1 query that covers\n",
    "    # the whole image FOV, used to calibrate photometry\n",
    "    full_query_constraints=constraints,\n",
    "    full_query_save=True,\n",
    "    full_query_dir=\"../data/\", \n",
    "    full_query_name=\"ps_query.csv\",\n",
    "    full_query_format=\"csv\",\n",
    "    # Whether to save photometry results to file\n",
    "    phot_save=True,\n",
    "    phot_dir=\"../data/\",\n",
    "    phot_name=None, # Default = <image_name>_phot.csv\n",
    "    # Whether to print out results\n",
    "    verbose=False\n",
    ")\n",
    "\n",
    "# Display result\n",
    "display(Markdown(phot_dat.to_markdown()))"
   ]
  },
  {
   "cell_type": "code",
   "execution_count": null,
   "id": "527bb43a-a27e-4e71-ab64-bf190f7e96fa",
   "metadata": {},
   "outputs": [],
   "source": []
  }
 ],
 "metadata": {
  "kernelspec": {
   "display_name": "Python 3 (ipykernel)",
   "language": "python",
   "name": "python3"
  },
  "language_info": {
   "codemirror_mode": {
    "name": "ipython",
    "version": 3
   },
   "file_extension": ".py",
   "mimetype": "text/x-python",
   "name": "python",
   "nbconvert_exporter": "python",
   "pygments_lexer": "ipython3",
   "version": "3.11.5"
  }
 },
 "nbformat": 4,
 "nbformat_minor": 5
}
